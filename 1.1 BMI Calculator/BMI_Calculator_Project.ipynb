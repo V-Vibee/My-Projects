{
  "nbformat": 4,
  "nbformat_minor": 0,
  "metadata": {
    "colab": {
      "provenance": []
    },
    "kernelspec": {
      "name": "python3",
      "display_name": "Python 3"
    },
    "language_info": {
      "name": "python"
    }
  },
  "cells": [
    {
      "cell_type": "code",
      "source": [
        "def calculate_bmi(weight_kg, height_cm):\n",
        "    height_m = height_cm / 100  # Convert height to meters\n",
        "    bmi = weight_kg / (height_m ** 2)  # Calculate BMI\n",
        "    return bmi"
      ],
      "metadata": {
        "id": "c-xy06vSdP2k"
      },
      "execution_count": null,
      "outputs": []
    },
    {
      "cell_type": "code",
      "execution_count": null,
      "metadata": {
        "colab": {
          "base_uri": "https://localhost:8080/"
        },
        "id": "Wk4PeXL4Zqlv",
        "outputId": "8616e3a0-2759-4455-a66a-a23bb4001071"
      },
      "outputs": [
        {
          "output_type": "stream",
          "name": "stdout",
          "text": [
            "Enter ur Name:arun\n",
            "Enter your weight in kgs: 110\n",
            "Enter your height in cms: 160\n",
            "42.96874999999999\n",
            "arun, you are morbidly obese.\n"
          ]
        }
      ],
      "source": [
        "name= input('Enter ur Name:')\n",
        "\n",
        "weight = float(input(\"Enter your weight in kgs: \"))\n",
        "\n",
        "\n",
        "height = float(input(\"Enter your height in cms: \"))\n",
        "\n",
        "BMI = calculate_bmi(weight, height)\n",
        "print(BMI)\n",
        "\n",
        "\n",
        "if BMI>0:\n",
        "    if(BMI<18.5):\n",
        "        print(name +\", you are underwight.\")\n",
        "    elif (BMI<=24.9):\n",
        "        print(name +\", you are normal weight.\")\n",
        "    elif (BMI<29.9):\n",
        "        print(name +\", you are overweight. You need to exercise more and stop sitting and writing so many python tutorials.\")\n",
        "    elif (BMI<34.9):\n",
        "        print(name +\", you are obese.\")\n",
        "    elif (BMI<39.9):\n",
        "        print(name +\", you are severely obese.\")\n",
        "    else:\n",
        "        print(name +\", you are morbidly obese.\")\n",
        "else:\n",
        "    print(\"Enter valid input\")"
      ]
    },
    {
      "cell_type": "markdown",
      "source": [
        "**User Context**"
      ],
      "metadata": {
        "id": "eHw8YqoYfqkN"
      }
    },
    {
      "cell_type": "code",
      "source": [
        "print(weight)"
      ],
      "metadata": {
        "id": "LURjX75DoiFQ"
      },
      "execution_count": null,
      "outputs": []
    },
    {
      "cell_type": "code",
      "source": [
        "Under 18.5\tUnderweight\tMinimal\n",
        "18.5 - 24.9\tNormal Weight\tMinimal\n",
        "25 - 29.9\tOverweight\tIncreased\n",
        "30 - 34.9\tObese\tHigh\n",
        "35 - 39.9\tSeverely Obese\tVery High\n",
        "40 and over\tMorbidly Obese\tExtremely High"
      ],
      "metadata": {
        "id": "es8-YWwlnq_T"
      },
      "execution_count": null,
      "outputs": []
    }
  ]
}